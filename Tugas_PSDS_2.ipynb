{
  "nbformat": 4,
  "nbformat_minor": 0,
  "metadata": {
    "colab": {
      "provenance": []
    },
    "kernelspec": {
      "name": "python3",
      "display_name": "Python 3"
    },
    "language_info": {
      "name": "python"
    }
  },
  "cells": [
    {
      "cell_type": "code",
      "source": [
        "#penjumlahan\n",
        "print('Penjumlahan')\n",
        "print(7+3)"
      ],
      "metadata": {
        "colab": {
          "base_uri": "https://localhost:8080/"
        },
        "id": "pJX1HFEoEdwj",
        "outputId": "5af23db3-4674-452f-dd05-10b719fc6e50"
      },
      "execution_count": null,
      "outputs": [
        {
          "output_type": "stream",
          "name": "stdout",
          "text": [
            "Penjumlahan\n",
            "10\n"
          ]
        }
      ]
    },
    {
      "cell_type": "code",
      "source": [
        "#pengurangan\n",
        "print('Pengurangan')\n",
        "print('-'*20)\n",
        "print(3-1)"
      ],
      "metadata": {
        "colab": {
          "base_uri": "https://localhost:8080/"
        },
        "id": "IWBW3D5LEsaD",
        "outputId": "a4238134-bcd6-4d62-c263-5763aa4269af"
      },
      "execution_count": null,
      "outputs": [
        {
          "output_type": "stream",
          "name": "stdout",
          "text": [
            "Pengurangan\n",
            "--------------------\n",
            "2\n"
          ]
        }
      ]
    },
    {
      "cell_type": "code",
      "source": [
        "#Perkalian\n",
        "print('Perkalian')\n",
        "print('-'*20)\n",
        "print(9*8)"
      ],
      "metadata": {
        "colab": {
          "base_uri": "https://localhost:8080/"
        },
        "id": "IjVrrf6OFDsV",
        "outputId": "1f345b6d-95c6-45e5-d0bd-7158380925c1"
      },
      "execution_count": null,
      "outputs": [
        {
          "output_type": "stream",
          "name": "stdout",
          "text": [
            "Perkalian\n",
            "--------------------\n",
            "72\n"
          ]
        }
      ]
    },
    {
      "cell_type": "code",
      "source": [
        "#Pembagian\n",
        "print('Pembagian')\n",
        "print('-'*20)\n",
        "print(9/2)"
      ],
      "metadata": {
        "colab": {
          "base_uri": "https://localhost:8080/"
        },
        "id": "Yj5pK0P_FhjI",
        "outputId": "0c1af39a-c5a0-4dc6-f45c-3591b9ae8777"
      },
      "execution_count": null,
      "outputs": [
        {
          "output_type": "stream",
          "name": "stdout",
          "text": [
            "Pembagian\n",
            "--------------------\n",
            "4.5\n"
          ]
        }
      ]
    },
    {
      "cell_type": "code",
      "source": [
        "#Modulo\n",
        "print('Modulus')\n",
        "print('-'*20)\n",
        "print(8%2)"
      ],
      "metadata": {
        "colab": {
          "base_uri": "https://localhost:8080/"
        },
        "id": "aMnHVIGjFSOy",
        "outputId": "6a5198dc-b4f7-43ec-dcb8-5dfd81b7b85f"
      },
      "execution_count": null,
      "outputs": [
        {
          "output_type": "stream",
          "name": "stdout",
          "text": [
            "Modulus\n",
            "--------------------\n",
            "0\n"
          ]
        }
      ]
    },
    {
      "cell_type": "code",
      "source": [
        "#Perpangkatan\n",
        "print('Perpangkatan')\n",
        "print('-'*20)\n",
        "print(2**3)"
      ],
      "metadata": {
        "colab": {
          "base_uri": "https://localhost:8080/"
        },
        "id": "R7QyPmbNF-Rd",
        "outputId": "dda481b1-ea5e-48cc-e170-a0ad786fb7aa"
      },
      "execution_count": null,
      "outputs": [
        {
          "output_type": "stream",
          "name": "stdout",
          "text": [
            "Perpangkatan\n",
            "--------------------\n",
            "8\n"
          ]
        }
      ]
    },
    {
      "cell_type": "code",
      "source": [
        "#Pembagian dengan hasil pembulatan flooring\n",
        "print('Pembagian pembuatan flooring')\n",
        "print('-'*20)\n",
        "print(4//5)"
      ],
      "metadata": {
        "colab": {
          "base_uri": "https://localhost:8080/"
        },
        "id": "G7DgDELQGOrE",
        "outputId": "d43379db-a151-41ec-b3c7-208f24c9a792"
      },
      "execution_count": null,
      "outputs": [
        {
          "output_type": "stream",
          "name": "stdout",
          "text": [
            "Pembagian pembuatan flooring\n",
            "--------------------\n",
            "0\n"
          ]
        }
      ]
    },
    {
      "cell_type": "code",
      "source": [
        "#Operator Assignment\n",
        "#Penjumlahan\n",
        "print('penjumlahan')\n",
        "x=10\n",
        "x=x+5\n",
        "print(x)\n",
        "x=10\n",
        "x+=5\n",
        "print('-'*20)"
      ],
      "metadata": {
        "colab": {
          "base_uri": "https://localhost:8080/"
        },
        "id": "dtq5P5SrGlLS",
        "outputId": "3c128428-03e8-4c35-ec4d-f81ebc5bf641"
      },
      "execution_count": null,
      "outputs": [
        {
          "output_type": "stream",
          "name": "stdout",
          "text": [
            "penjumlahan\n",
            "15\n",
            "--------------------\n"
          ]
        }
      ]
    },
    {
      "cell_type": "code",
      "source": [
        "#Pengurangan\n",
        "print('pengurangan')\n",
        "x=15\n",
        "x=x-6\n",
        "print(x)\n",
        "x=15\n",
        "x-=6\n",
        "print('-'*20)"
      ],
      "metadata": {
        "id": "xdXIQWOXFvVj",
        "colab": {
          "base_uri": "https://localhost:8080/"
        },
        "outputId": "1d14e5e4-f9b6-4314-cb23-5bcd5975dbd3"
      },
      "execution_count": null,
      "outputs": [
        {
          "output_type": "stream",
          "name": "stdout",
          "text": [
            "pengurangan\n",
            "9\n",
            "--------------------\n"
          ]
        }
      ]
    },
    {
      "cell_type": "code",
      "source": [
        "#Perkalian\n",
        "print('perkalian')\n",
        "x=15\n",
        "x=x*6\n",
        "print(x)\n",
        "x=15\n",
        "x*=6\n",
        "print('-'*20)"
      ],
      "metadata": {
        "colab": {
          "base_uri": "https://localhost:8080/"
        },
        "id": "GCI3RM9sBc6x",
        "outputId": "0f24209e-04a9-4a82-f5c1-459215952189"
      },
      "execution_count": null,
      "outputs": [
        {
          "output_type": "stream",
          "name": "stdout",
          "text": [
            "perkalian\n",
            "90\n",
            "--------------------\n"
          ]
        }
      ]
    },
    {
      "cell_type": "code",
      "source": [
        "#Pembagian\n",
        "print('pembagian')\n",
        "x=15\n",
        "x=x/5\n",
        "print(x)\n",
        "x=15\n",
        "x/=5\n",
        "print('-'*20)"
      ],
      "metadata": {
        "colab": {
          "base_uri": "https://localhost:8080/"
        },
        "id": "CCM7U4GCBl5t",
        "outputId": "feb171d9-6c62-428f-9bad-ee097568ddf6"
      },
      "execution_count": null,
      "outputs": [
        {
          "output_type": "stream",
          "name": "stdout",
          "text": [
            "pembagian\n",
            "3.0\n",
            "--------------------\n"
          ]
        }
      ]
    },
    {
      "cell_type": "code",
      "source": [
        "#Modulus\n",
        "print('modulus')\n",
        "x=15\n",
        "x=x%6\n",
        "print(x)\n",
        "x=15\n",
        "x%=6\n",
        "print('-'*20)"
      ],
      "metadata": {
        "colab": {
          "base_uri": "https://localhost:8080/"
        },
        "id": "rqPBzNZhBxC_",
        "outputId": "7e2cf1ed-78f7-4bd9-a9e0-6b9df7a82777"
      },
      "execution_count": null,
      "outputs": [
        {
          "output_type": "stream",
          "name": "stdout",
          "text": [
            "modulus\n",
            "3\n",
            "--------------------\n"
          ]
        }
      ]
    },
    {
      "cell_type": "code",
      "source": [
        "#Pembagian flooring\n",
        "print('pembagian flooring')\n",
        "x=15\n",
        "x=x//3\n",
        "print(x)\n",
        "x=15\n",
        "x//=3\n",
        "print('-'*20)"
      ],
      "metadata": {
        "colab": {
          "base_uri": "https://localhost:8080/"
        },
        "id": "SumsIXFMB9VQ",
        "outputId": "90445f04-59e8-49ac-b24b-bc11b3167252"
      },
      "execution_count": null,
      "outputs": [
        {
          "output_type": "stream",
          "name": "stdout",
          "text": [
            "pembagian flooring\n",
            "5\n",
            "--------------------\n"
          ]
        }
      ]
    },
    {
      "cell_type": "code",
      "source": [
        "#Perpangkatan\n",
        "print('perpangkatan')\n",
        "x=2\n",
        "x=x**2\n",
        "print(x)\n",
        "x=2\n",
        "x**=2\n",
        "print('-'*20)"
      ],
      "metadata": {
        "colab": {
          "base_uri": "https://localhost:8080/"
        },
        "id": "57WPnkdGCKlJ",
        "outputId": "83de3188-3cf5-42fd-aa22-83d2aeb0987f"
      },
      "execution_count": null,
      "outputs": [
        {
          "output_type": "stream",
          "name": "stdout",
          "text": [
            "perpangkatan\n",
            "4\n",
            "--------------------\n"
          ]
        }
      ]
    },
    {
      "cell_type": "code",
      "source": [
        "print(3==2)"
      ],
      "metadata": {
        "colab": {
          "base_uri": "https://localhost:8080/"
        },
        "id": "IwgdfAGiCioS",
        "outputId": "191246f7-3144-4364-a368-95049dd64f37"
      },
      "execution_count": null,
      "outputs": [
        {
          "output_type": "stream",
          "name": "stdout",
          "text": [
            "False\n"
          ]
        }
      ]
    },
    {
      "cell_type": "code",
      "source": [
        "print(3!=2)"
      ],
      "metadata": {
        "colab": {
          "base_uri": "https://localhost:8080/"
        },
        "id": "4n--e5AIClRz",
        "outputId": "c25d365f-9787-4aca-ea04-8d3a02745cac"
      },
      "execution_count": null,
      "outputs": [
        {
          "output_type": "stream",
          "name": "stdout",
          "text": [
            "True\n"
          ]
        }
      ]
    },
    {
      "cell_type": "code",
      "source": [
        "print(3>2)"
      ],
      "metadata": {
        "colab": {
          "base_uri": "https://localhost:8080/"
        },
        "id": "TrjCGyEBCpgD",
        "outputId": "509822bb-6e95-4df9-9305-d3ce60aed03a"
      },
      "execution_count": null,
      "outputs": [
        {
          "output_type": "stream",
          "name": "stdout",
          "text": [
            "True\n"
          ]
        }
      ]
    },
    {
      "cell_type": "code",
      "source": [
        "print(3<2)"
      ],
      "metadata": {
        "colab": {
          "base_uri": "https://localhost:8080/"
        },
        "id": "2oyO7w20CsUN",
        "outputId": "8dd6b101-7ea2-4803-e0ca-3626061d4d3b"
      },
      "execution_count": null,
      "outputs": [
        {
          "output_type": "stream",
          "name": "stdout",
          "text": [
            "False\n"
          ]
        }
      ]
    },
    {
      "cell_type": "code",
      "source": [
        "print(2>=3)"
      ],
      "metadata": {
        "colab": {
          "base_uri": "https://localhost:8080/"
        },
        "id": "aG3UaBxqCvSN",
        "outputId": "de2699cd-b5a2-4f5a-8d91-627506d38670"
      },
      "execution_count": null,
      "outputs": [
        {
          "output_type": "stream",
          "name": "stdout",
          "text": [
            "False\n"
          ]
        }
      ]
    },
    {
      "cell_type": "code",
      "source": [
        "print(2<=3)"
      ],
      "metadata": {
        "colab": {
          "base_uri": "https://localhost:8080/"
        },
        "id": "ofv0QGGdC4ui",
        "outputId": "a0354680-6a13-447a-abb2-c966346bbacc"
      },
      "execution_count": null,
      "outputs": [
        {
          "output_type": "stream",
          "name": "stdout",
          "text": [
            "True\n"
          ]
        }
      ]
    },
    {
      "cell_type": "code",
      "source": [
        "print(True and False)"
      ],
      "metadata": {
        "colab": {
          "base_uri": "https://localhost:8080/"
        },
        "id": "jvJf_smTC-LN",
        "outputId": "f49338d7-d8c0-42a6-ddf6-32e4c78c7e5c"
      },
      "execution_count": null,
      "outputs": [
        {
          "output_type": "stream",
          "name": "stdout",
          "text": [
            "False\n"
          ]
        }
      ]
    },
    {
      "cell_type": "code",
      "source": [
        "print(False or False)"
      ],
      "metadata": {
        "colab": {
          "base_uri": "https://localhost:8080/"
        },
        "id": "OnbNTdY1DCRx",
        "outputId": "12f1f199-2293-47e0-fc5f-1983bba359db"
      },
      "execution_count": null,
      "outputs": [
        {
          "output_type": "stream",
          "name": "stdout",
          "text": [
            "False\n"
          ]
        }
      ]
    },
    {
      "cell_type": "code",
      "source": [
        "print(not False and True)"
      ],
      "metadata": {
        "colab": {
          "base_uri": "https://localhost:8080/"
        },
        "id": "z7E0csOvDHz9",
        "outputId": "3190ca21-79b3-48ad-af9c-8d52e6640f9f"
      },
      "execution_count": null,
      "outputs": [
        {
          "output_type": "stream",
          "name": "stdout",
          "text": [
            "True\n"
          ]
        }
      ]
    },
    {
      "cell_type": "code",
      "source": [
        "a=(4,5,6,7,8)\n",
        "b=5\n",
        "\n",
        "print(b in a)"
      ],
      "metadata": {
        "colab": {
          "base_uri": "https://localhost:8080/"
        },
        "id": "IwNoL-QdDM-w",
        "outputId": "79fa0e62-94e1-49f3-f586-2c70bf2a2f13"
      },
      "execution_count": null,
      "outputs": [
        {
          "output_type": "stream",
          "name": "stdout",
          "text": [
            "True\n"
          ]
        }
      ]
    },
    {
      "cell_type": "code",
      "source": [
        "print('-'*20)\n",
        "a=(4,5,6,7,8,9)\n",
        "b=7\n",
        "\n",
        "print(b in a)"
      ],
      "metadata": {
        "colab": {
          "base_uri": "https://localhost:8080/"
        },
        "id": "vTTXTl1XDao-",
        "outputId": "a4c7b68c-0b69-4396-a99a-9a6dc6b97b2a"
      },
      "execution_count": null,
      "outputs": [
        {
          "output_type": "stream",
          "name": "stdout",
          "text": [
            "--------------------\n",
            "True\n"
          ]
        }
      ]
    },
    {
      "cell_type": "code",
      "source": [
        "#membuat variabel\n",
        "kalimat = 'mark lee'\n",
        "bilangan1 = 5\n",
        "bilangan2 = 3.5\n",
        "bilangan3 = True\n",
        "bilangan4 = 3j + 3\n",
        "\n",
        "#Menentukan tipe data\n",
        "print(type(kalimat))\n",
        "print(type(bilangan1))\n",
        "print(type(bilangan2))\n",
        "print(type(bilangan3))\n",
        "print(type(bilangan4))\n",
        "\n",
        "#menampilkan variabel\n",
        "print(kalimat)\n",
        "print(bilangan1)\n",
        "print(bilangan2)\n",
        "print(bilangan3)\n",
        "print(bilangan4)\n",
        "\n",
        "#konversi tipe data\n",
        "print(int(bilangan2))\n",
        "print(int(bilangan3))\n",
        "\n",
        "print(float(bilangan1))\n",
        "print(float(bilangan3))\n",
        "\n",
        "print(str(bilangan1))\n",
        "print(str(bilangan2))\n",
        "print(str(bilangan3))\n",
        "\n",
        "print(bool(bilangan1))\n",
        "print(bool(bilangan2))\n",
        "\n",
        "print(complex(bilangan1))\n",
        "print(complex(bilangan2))\n",
        "print(complex(bilangan3))"
      ],
      "metadata": {
        "colab": {
          "base_uri": "https://localhost:8080/"
        },
        "id": "81a0axdlD-K7",
        "outputId": "31a3e28e-f9bf-49ea-aca2-952619c9d7a1"
      },
      "execution_count": 5,
      "outputs": [
        {
          "output_type": "stream",
          "name": "stdout",
          "text": [
            "<class 'str'>\n",
            "<class 'int'>\n",
            "<class 'float'>\n",
            "<class 'bool'>\n",
            "<class 'complex'>\n",
            "mark lee\n",
            "5\n",
            "3.5\n",
            "True\n",
            "(3+3j)\n",
            "3\n",
            "1\n",
            "5.0\n",
            "1.0\n",
            "5\n",
            "3.5\n",
            "True\n",
            "True\n",
            "True\n",
            "(5+0j)\n",
            "(3.5+0j)\n",
            "(1+0j)\n"
          ]
        }
      ]
    }
  ]
}